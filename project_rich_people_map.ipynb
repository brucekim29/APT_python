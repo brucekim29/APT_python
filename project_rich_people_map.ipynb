{
 "cells": [
  {
   "cell_type": "code",
   "execution_count": 1,
   "id": "ff24ff32",
   "metadata": {},
   "outputs": [],
   "source": [
    "import folium\n",
    "import pandas as pd"
   ]
  },
  {
   "cell_type": "code",
   "execution_count": 2,
   "id": "6cd85fe6",
   "metadata": {},
   "outputs": [
    {
     "data": {
      "text/html": [
       "<div>\n",
       "<style scoped>\n",
       "    .dataframe tbody tr th:only-of-type {\n",
       "        vertical-align: middle;\n",
       "    }\n",
       "\n",
       "    .dataframe tbody tr th {\n",
       "        vertical-align: top;\n",
       "    }\n",
       "\n",
       "    .dataframe thead th {\n",
       "        text-align: right;\n",
       "    }\n",
       "</style>\n",
       "<table border=\"1\" class=\"dataframe\">\n",
       "  <thead>\n",
       "    <tr style=\"text-align: right;\">\n",
       "      <th></th>\n",
       "      <th>년도</th>\n",
       "      <th>거래가격(만원)</th>\n",
       "      <th>건물명</th>\n",
       "      <th>위도</th>\n",
       "      <th>경도</th>\n",
       "    </tr>\n",
       "  </thead>\n",
       "  <tbody>\n",
       "    <tr>\n",
       "      <th>0</th>\n",
       "      <td>2016</td>\n",
       "      <td>790000</td>\n",
       "      <td>한남더힐</td>\n",
       "      <td>37.536819</td>\n",
       "      <td>127.009504</td>\n",
       "    </tr>\n",
       "    <tr>\n",
       "      <th>1</th>\n",
       "      <td>2016</td>\n",
       "      <td>760000</td>\n",
       "      <td>한남더힐</td>\n",
       "      <td>37.536819</td>\n",
       "      <td>127.009504</td>\n",
       "    </tr>\n",
       "    <tr>\n",
       "      <th>2</th>\n",
       "      <td>2016</td>\n",
       "      <td>719700</td>\n",
       "      <td>한남더힐</td>\n",
       "      <td>37.536819</td>\n",
       "      <td>127.009504</td>\n",
       "    </tr>\n",
       "    <tr>\n",
       "      <th>3</th>\n",
       "      <td>2016</td>\n",
       "      <td>660000</td>\n",
       "      <td>갤러리아 포레</td>\n",
       "      <td>37.545656</td>\n",
       "      <td>127.042471</td>\n",
       "    </tr>\n",
       "    <tr>\n",
       "      <th>4</th>\n",
       "      <td>2016</td>\n",
       "      <td>650000</td>\n",
       "      <td>한남더힐</td>\n",
       "      <td>37.536819</td>\n",
       "      <td>127.009504</td>\n",
       "    </tr>\n",
       "    <tr>\n",
       "      <th>...</th>\n",
       "      <td>...</td>\n",
       "      <td>...</td>\n",
       "      <td>...</td>\n",
       "      <td>...</td>\n",
       "      <td>...</td>\n",
       "    </tr>\n",
       "    <tr>\n",
       "      <th>65</th>\n",
       "      <td>2022</td>\n",
       "      <td>880000</td>\n",
       "      <td>갤러리아 포레</td>\n",
       "      <td>37.545656</td>\n",
       "      <td>127.042471</td>\n",
       "    </tr>\n",
       "    <tr>\n",
       "      <th>66</th>\n",
       "      <td>2022</td>\n",
       "      <td>870000</td>\n",
       "      <td>타워팰리스</td>\n",
       "      <td>37.489689</td>\n",
       "      <td>127.054093</td>\n",
       "    </tr>\n",
       "    <tr>\n",
       "      <th>67</th>\n",
       "      <td>2022</td>\n",
       "      <td>850000</td>\n",
       "      <td>한남더힐</td>\n",
       "      <td>37.536819</td>\n",
       "      <td>127.009504</td>\n",
       "    </tr>\n",
       "    <tr>\n",
       "      <th>68</th>\n",
       "      <td>2022</td>\n",
       "      <td>850000</td>\n",
       "      <td>한남더힐</td>\n",
       "      <td>37.536819</td>\n",
       "      <td>127.009504</td>\n",
       "    </tr>\n",
       "    <tr>\n",
       "      <th>69</th>\n",
       "      <td>2022</td>\n",
       "      <td>850000</td>\n",
       "      <td>나인원한남</td>\n",
       "      <td>37.536302</td>\n",
       "      <td>127.003454</td>\n",
       "    </tr>\n",
       "  </tbody>\n",
       "</table>\n",
       "<p>70 rows × 5 columns</p>\n",
       "</div>"
      ],
      "text/plain": [
       "      년도  거래가격(만원)      건물명         위도          경도\n",
       "0   2016    790000     한남더힐  37.536819  127.009504\n",
       "1   2016    760000     한남더힐  37.536819  127.009504\n",
       "2   2016    719700     한남더힐  37.536819  127.009504\n",
       "3   2016    660000  갤러리아 포레  37.545656  127.042471\n",
       "4   2016    650000     한남더힐  37.536819  127.009504\n",
       "..   ...       ...      ...        ...         ...\n",
       "65  2022    880000  갤러리아 포레  37.545656  127.042471\n",
       "66  2022    870000    타워팰리스  37.489689  127.054093\n",
       "67  2022    850000     한남더힐  37.536819  127.009504\n",
       "68  2022    850000     한남더힐  37.536819  127.009504\n",
       "69  2022    850000    나인원한남  37.536302  127.003454\n",
       "\n",
       "[70 rows x 5 columns]"
      ]
     },
     "execution_count": 2,
     "metadata": {},
     "output_type": "execute_result"
    }
   ],
   "source": [
    "seoul_apt_map = pd.read_csv('./dataset/seoul_apt_map.csv', encoding='cp949')\n",
    "seoul_apt_map "
   ]
  },
  {
   "cell_type": "code",
   "execution_count": 3,
   "id": "5390a33d",
   "metadata": {},
   "outputs": [],
   "source": [
    "seoul = seoul_apt_map.drop(['년도','거래가격(만원)'], axis = 1).copy()"
   ]
  },
  {
   "cell_type": "code",
   "execution_count": 4,
   "id": "50836fc4",
   "metadata": {},
   "outputs": [
    {
     "data": {
      "text/plain": [
       "건물명     object\n",
       "위도     float64\n",
       "경도     float64\n",
       "dtype: object"
      ]
     },
     "execution_count": 4,
     "metadata": {},
     "output_type": "execute_result"
    }
   ],
   "source": [
    "seoul.dtypes"
   ]
  },
  {
   "cell_type": "code",
   "execution_count": 5,
   "id": "0f9c0739",
   "metadata": {},
   "outputs": [
    {
     "data": {
      "text/html": [
       "<div>\n",
       "<style scoped>\n",
       "    .dataframe tbody tr th:only-of-type {\n",
       "        vertical-align: middle;\n",
       "    }\n",
       "\n",
       "    .dataframe tbody tr th {\n",
       "        vertical-align: top;\n",
       "    }\n",
       "\n",
       "    .dataframe thead th {\n",
       "        text-align: right;\n",
       "    }\n",
       "</style>\n",
       "<table border=\"1\" class=\"dataframe\">\n",
       "  <thead>\n",
       "    <tr style=\"text-align: right;\">\n",
       "      <th></th>\n",
       "      <th>위도</th>\n",
       "      <th>경도</th>\n",
       "    </tr>\n",
       "    <tr>\n",
       "      <th>건물명</th>\n",
       "      <th></th>\n",
       "      <th></th>\n",
       "    </tr>\n",
       "  </thead>\n",
       "  <tbody>\n",
       "    <tr>\n",
       "      <th>한남더힐</th>\n",
       "      <td>37.536819</td>\n",
       "      <td>127.009504</td>\n",
       "    </tr>\n",
       "    <tr>\n",
       "      <th>한남더힐</th>\n",
       "      <td>37.536819</td>\n",
       "      <td>127.009504</td>\n",
       "    </tr>\n",
       "    <tr>\n",
       "      <th>한남더힐</th>\n",
       "      <td>37.536819</td>\n",
       "      <td>127.009504</td>\n",
       "    </tr>\n",
       "    <tr>\n",
       "      <th>갤러리아 포레</th>\n",
       "      <td>37.545656</td>\n",
       "      <td>127.042471</td>\n",
       "    </tr>\n",
       "    <tr>\n",
       "      <th>한남더힐</th>\n",
       "      <td>37.536819</td>\n",
       "      <td>127.009504</td>\n",
       "    </tr>\n",
       "  </tbody>\n",
       "</table>\n",
       "</div>"
      ],
      "text/plain": [
       "                위도          경도\n",
       "건물명                           \n",
       "한남더힐     37.536819  127.009504\n",
       "한남더힐     37.536819  127.009504\n",
       "한남더힐     37.536819  127.009504\n",
       "갤러리아 포레  37.545656  127.042471\n",
       "한남더힐     37.536819  127.009504"
      ]
     },
     "execution_count": 5,
     "metadata": {},
     "output_type": "execute_result"
    }
   ],
   "source": [
    "seoul.set_index('건물명', inplace=True)\n",
    "seoul.head()"
   ]
  },
  {
   "cell_type": "code",
   "execution_count": 6,
   "id": "0762f22f",
   "metadata": {},
   "outputs": [],
   "source": [
    "seoul_apt = folium.Map(location=[37.55,126.98], tiles='Stamen Terrain',\n",
    "                       zoom_start=12)\n",
    "seoul_apt.save('./dataset/seoul_apt_map.html')"
   ]
  },
  {
   "cell_type": "code",
   "execution_count": 7,
   "id": "276d5380",
   "metadata": {},
   "outputs": [],
   "source": [
    "#지도에 마커 추가하기\n",
    "\n",
    "for name, lat, lng in zip(seoul.index, seoul.위도, seoul.경도): \n",
    "    folium.Marker([lat, lng], popup=name).add_to(seoul_apt)  \n",
    "    \n",
    "seoul_apt.save('./dataset/seoul_cooleges.html')"
   ]
  },
  {
   "cell_type": "code",
   "execution_count": 8,
   "id": "0e8385b8",
   "metadata": {},
   "outputs": [],
   "source": [
    "for name, lat, lng in zip(seoul.index, seoul.위도, seoul.경도): \n",
    "    folium.CircleMarker( [lat, lng], \n",
    "                        radius=10, #원의 반지름\n",
    "                        color='skyblue', #원의 색\n",
    "                        fill=True, \n",
    "                        fill_color='skyblue', #원을 채우는색 \n",
    "                        fill_opacity=0.5, #원의 투명소\n",
    "                        popup=name).add_to(seoul_apt)  #popup 함수중 하나\n",
    "    \n",
    "seoul_apt.save('./dataset/rich_people1.html')"
   ]
  },
  {
   "cell_type": "code",
   "execution_count": null,
   "id": "8566de73",
   "metadata": {},
   "outputs": [],
   "source": []
  }
 ],
 "metadata": {
  "kernelspec": {
   "display_name": "Python 3 (ipykernel)",
   "language": "python",
   "name": "python3"
  },
  "language_info": {
   "codemirror_mode": {
    "name": "ipython",
    "version": 3
   },
   "file_extension": ".py",
   "mimetype": "text/x-python",
   "name": "python",
   "nbconvert_exporter": "python",
   "pygments_lexer": "ipython3",
   "version": "3.9.12"
  }
 },
 "nbformat": 4,
 "nbformat_minor": 5
}
